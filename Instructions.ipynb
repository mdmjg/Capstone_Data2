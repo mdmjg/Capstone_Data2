{
 "cells": [
  {
   "cell_type": "markdown",
   "metadata": {},
   "source": [
    "# Instructions"
   ]
  },
  {
   "cell_type": "markdown",
   "metadata": {},
   "source": [
    "## Using CodeXGlue to train initial model\n",
    "### Clone the CodeXGlue repository\n",
    "The repository, found in https://github.com/microsoft/CodeXGLUE, provides a benchmark dataset and open challenge for code intelligence.\n",
    "\n",
    "### Get the Github dataset\n",
    "Since our goal is to convert Code to Text, we will be using the CodeSearchNet database. The instructions to download this dataset are provided inside the `Code-Text/code-to-text` folder of the CodeXGlue repository.\n",
    "\n",
    "### Train your model\n",
    "Read through the instructions inside the `Code-Text/code-to-text` folder of the CodeXGlue repository to train your model.\n",
    "\n",
    "\n"
   ]
  },
  {
   "cell_type": "code",
   "execution_count": null,
   "metadata": {},
   "outputs": [],
   "source": []
  }
 ],
 "metadata": {
  "kernelspec": {
   "display_name": "jupyter-venv",
   "language": "python",
   "name": "jupyter-venv"
  },
  "language_info": {
   "codemirror_mode": {
    "name": "ipython",
    "version": 3
   },
   "file_extension": ".py",
   "mimetype": "text/x-python",
   "name": "python",
   "nbconvert_exporter": "python",
   "pygments_lexer": "ipython3",
   "version": "3.8.0"
  }
 },
 "nbformat": 4,
 "nbformat_minor": 4
}
