{
 "cells": [
  {
   "cell_type": "code",
   "execution_count": 1,
   "metadata": {},
   "outputs": [
    {
     "ename": "ModuleNotFoundError",
     "evalue": "No module named 'esprima'",
     "output_type": "error",
     "traceback": [
      "\u001b[0;31m---------------------------------------------------------------------------\u001b[0m",
      "\u001b[0;31mModuleNotFoundError\u001b[0m                       Traceback (most recent call last)",
      "\u001b[0;32m<ipython-input-1-8ccf764b5a92>\u001b[0m in \u001b[0;36m<module>\u001b[0;34m\u001b[0m\n\u001b[0;32m----> 1\u001b[0;31m \u001b[0;32mimport\u001b[0m \u001b[0mesprima\u001b[0m\u001b[0;34m\u001b[0m\u001b[0;34m\u001b[0m\u001b[0m\n\u001b[0m\u001b[1;32m      2\u001b[0m \u001b[0;32mimport\u001b[0m \u001b[0mpandas\u001b[0m \u001b[0;32mas\u001b[0m \u001b[0mpd\u001b[0m\u001b[0;34m\u001b[0m\u001b[0;34m\u001b[0m\u001b[0m\n\u001b[1;32m      3\u001b[0m \u001b[0;32mimport\u001b[0m \u001b[0mre\u001b[0m\u001b[0;34m\u001b[0m\u001b[0;34m\u001b[0m\u001b[0m\n\u001b[1;32m      4\u001b[0m \u001b[0;32mimport\u001b[0m \u001b[0mjson\u001b[0m\u001b[0;34m\u001b[0m\u001b[0;34m\u001b[0m\u001b[0m\n\u001b[1;32m      5\u001b[0m \u001b[0;32mfrom\u001b[0m \u001b[0mnltk\u001b[0m\u001b[0;34m.\u001b[0m\u001b[0mtokenize\u001b[0m \u001b[0;32mimport\u001b[0m \u001b[0mword_tokenize\u001b[0m\u001b[0;34m\u001b[0m\u001b[0;34m\u001b[0m\u001b[0m\n",
      "\u001b[0;31mModuleNotFoundError\u001b[0m: No module named 'esprima'"
     ]
    }
   ],
   "source": [
    "import esprima\n",
    "import pandas as pd\n",
    "import re\n",
    "import json\n",
    "from nltk.tokenize import word_tokenize"
   ]
  },
  {
   "cell_type": "code",
   "execution_count": null,
   "metadata": {},
   "outputs": [],
   "source": [
    "data = pd.read_pickle(\"javascript1951_2600_with_code\")"
   ]
  },
  {
   "cell_type": "code",
   "execution_count": null,
   "metadata": {},
   "outputs": [],
   "source": [
    "data[\"new_title_tag\"] = \"\""
   ]
  },
  {
   "cell_type": "code",
   "execution_count": null,
   "metadata": {},
   "outputs": [],
   "source": [
    "def create_new_title_tag(tag):\n",
    "    return \"Returns \" + tag"
   ]
  },
  {
   "cell_type": "code",
   "execution_count": 2,
   "metadata": {},
   "outputs": [],
   "source": [
    "elements = [\"menu\", \"header\", \"social-media\", \"footer\", \"navbar\", \"banner\", \"nav-bar\", \"navicon\", \"content\", \"image-slider\", \"search bar\", \"image-slider\", \"cookie\",  \"iframe\",\n",
    "\"ajax\", \"animate\", \"form\",\"google-map\"]"
   ]
  },
  {
   "cell_type": "code",
   "execution_count": 3,
   "metadata": {},
   "outputs": [],
   "source": [
    "def create_new_title_word(title):\n",
    "    found = []\n",
    "    for elem in elements:\n",
    "        if elem in title:\n",
    "            found.append(elem)\n",
    "            \n",
    "    result = \"Returns \"\n",
    "    for f in found:\n",
    "        result += (f + \" and \")\n",
    "    result = result[:-5]\n",
    "    return result"
   ]
  },
  {
   "cell_type": "code",
   "execution_count": null,
   "metadata": {},
   "outputs": [],
   "source": [
    "data['new_title_tag'] = data.apply(lambda row : create_new_title_tag(row['tags']), axis = 1)\n",
    "data['new_title_word'] = data.apply(lambda row : create_new_title_word(row['title'].lower()), axis = 1)"
   ]
  },
  {
   "cell_type": "code",
   "execution_count": null,
   "metadata": {},
   "outputs": [],
   "source": [
    "data[\"title_tag_tokenized\"] = \"\"\n",
    "data[\"title_word_tokenized\"] = \"\""
   ]
  },
  {
   "cell_type": "code",
   "execution_count": null,
   "metadata": {},
   "outputs": [],
   "source": [
    "question_ids = data['question_id'].unique()"
   ]
  },
  {
   "cell_type": "code",
   "execution_count": null,
   "metadata": {},
   "outputs": [],
   "source": [
    "for question in question_ids:\n",
    "    title_tag = data['new_title_tag'][data['question_id'] == question].unique()[0]\n",
    "    result = tokenize_word(title_tag)\n",
    "    print(result)\n",
    "    data['title_tag_tokenized'][data['question_id'] == question] = result"
   ]
  },
  {
   "cell_type": "code",
   "execution_count": null,
   "metadata": {},
   "outputs": [],
   "source": [
    "for question in question_ids:\n",
    "    title_word = data['new_title_word'][data['question_id'] == question].unique()[0]\n",
    "    result = tokenize_word(title_word)\n",
    "    print(result)\n",
    "    data['title_word_tokenized'][data['question_id'] == question] = result"
   ]
  },
  {
   "cell_type": "code",
   "execution_count": null,
   "metadata": {},
   "outputs": [],
   "source": [
    "original_word_df = data.filter(['new_title_word','javascript_code','javascript_tokenized', 'title_word_tokenized'], axis=1)"
   ]
  },
  {
   "cell_type": "code",
   "execution_count": null,
   "metadata": {},
   "outputs": [],
   "source": [
    "original_word_df[\"repo\"] = \"\"\n",
    "original_word_df[\"path\"] = \"\"\n",
    "original_word_df[\"func_name\"] = \"\"\n",
    "original_word_df[\"url\"] = \"\"\n",
    "original_word_df[\"sha\"] = \"\"\n",
    "original_word_df[\"partition\"] = \"\"\n",
    "# new_df[\"original_string\"] = \"\"\n",
    "original_word_df[\"language\"] = \"javascript\"\n",
    "original_word_df[\"original_string\"] = original_word_df[\"javascript_code\"]"
   ]
  },
  {
   "cell_type": "code",
   "execution_count": null,
   "metadata": {},
   "outputs": [],
   "source": [
    "original_word_df.rename(columns={'javascript_code':'code'}, inplace=True)\n",
    "original_word_df.rename(columns={'javascript_tokenized':'code_tokens'}, inplace=True)\n",
    "original_word_df.rename(columns={'new_title_word':'docstring'}, inplace=True)\n",
    "original_word_df.rename(columns={'title_word_tokenized':'docstring_tokens'}, inplace=True)"
   ]
  },
  {
   "cell_type": "code",
   "execution_count": null,
   "metadata": {},
   "outputs": [],
   "source": [
    "def tokenize_word(text):\n",
    "    tokens = word_tokenize(text)\n",
    "    result = \"\"\n",
    "    for word in tokens:\n",
    "        result += word\n",
    "        result += \",\"\n",
    "    result = result[:-1]\n",
    "    result += \"\"\n",
    "        \n",
    "    return result"
   ]
  },
  {
   "cell_type": "code",
   "execution_count": null,
   "metadata": {},
   "outputs": [],
   "source": [
    "def tokenize(answer):\n",
    "    result = []\n",
    "    try:\n",
    "        esprima.parseScript(answer)\n",
    "        tokenized = esprima.tokenize(answer)\n",
    "        result = \"\"\n",
    "        for token in tokenized:\n",
    "            result.append(token.value)\n",
    "        return result\n",
    "    except:\n",
    "        print(\"error\")\n",
    "        return None"
   ]
  },
  {
   "cell_type": "code",
   "execution_count": null,
   "metadata": {},
   "outputs": [],
   "source": [
    "data = data[~data['javascript_code'].isnull()]"
   ]
  },
  {
   "cell_type": "code",
   "execution_count": null,
   "metadata": {},
   "outputs": [],
   "source": [
    "for question in question_ids:\n",
    "    title_tag = data['new_title_tag'][data['question_id'] == question].unique()[0]\n",
    "    title_word = data['new_title_word'][data['question_id'] == question].unique()[0]\n",
    "    title_normal = data['title'][data['question_id'] == question].unique()[0]\n",
    "    js_code = data['javascript_code'][data['question_id'] == question].unique()[0]\n",
    "    \n",
    "    result_tag = tokenize_word(title_tag)\n",
    "    result_word = tokenize_word(title_word)\n",
    "    result_normal = tokenize_word(title_normal)\n",
    "    result_code = tokenize(js_code)\n",
    "\n",
    "    data['title_tag_tokenized'][data['question_id'] == question] = result_tag\n",
    "    data['title_word_tokenized'][data['question_id'] == question] = result_word\n",
    "    data['title_tokenized'][data['question_id'] == question] = result_normal\n",
    "    data['javascript_tokenized'][data['question_id'] == question] = result_code\n",
    "    "
   ]
  }
 ],
 "metadata": {
  "kernelspec": {
   "display_name": "Python 3",
   "language": "python",
   "name": "python3"
  },
  "language_info": {
   "codemirror_mode": {
    "name": "ipython",
    "version": 3
   },
   "file_extension": ".py",
   "mimetype": "text/x-python",
   "name": "python",
   "nbconvert_exporter": "python",
   "pygments_lexer": "ipython3",
   "version": "3.8.6"
  }
 },
 "nbformat": 4,
 "nbformat_minor": 4
}
