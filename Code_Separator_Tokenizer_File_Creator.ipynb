{
 "cells": [
  {
   "cell_type": "markdown",
   "metadata": {},
   "source": [
    "### Separates code into languages, tokenizes, and saves into train, validation, and testing file"
   ]
  },
  {
   "cell_type": "code",
   "execution_count": 1,
   "metadata": {},
   "outputs": [],
   "source": [
    "import esprima\n",
    "import pandas as pd\n",
    "import re\n",
    "import json\n",
    "from nltk.tokenize import word_tokenize\n",
    "import sys\n",
    "import random"
   ]
  },
  {
   "cell_type": "code",
   "execution_count": 2,
   "metadata": {},
   "outputs": [],
   "source": [
    "# data = pd.read_pickle(\"javascript1951_2600_with_code\")\n",
    "data = pd.read_pickle(\"javascript1951_2600_cleaned\")\n"
   ]
  },
  {
   "cell_type": "code",
   "execution_count": null,
   "metadata": {},
   "outputs": [],
   "source": [
    "data.head()\n"
   ]
  },
  {
   "cell_type": "code",
   "execution_count": null,
   "metadata": {},
   "outputs": [],
   "source": [
    "original_title_df.to_pickle(\"javascript1951_2600_cleaned\")"
   ]
  },
  {
   "cell_type": "code",
   "execution_count": null,
   "metadata": {},
   "outputs": [],
   "source": [
    "data[\"javascript_code\"] = \"\"\n",
    "data[\"css_code\"] = \"\"\n",
    "data[\"undefined_code\"] = \"\"\n",
    "data[\"html_code\"] = \"\"\n",
    "data[\"undefined\"] = \"\""
   ]
  },
  {
   "cell_type": "code",
   "execution_count": null,
   "metadata": {},
   "outputs": [],
   "source": [
    "def split_answer_code(answer):\n",
    "    result = dict()\n",
    "    answer_list = re.split(\"(\\$*\\shtml|\\$*\\scss|\\$*\\sjavascript|\\$*\\sundefined)\", answer)\n",
    "    for ans in range(1, len(answer_list)-1, 2):\n",
    "#         print(ans, answer_list[ans])\n",
    "        if(answer_list[ans].find(\"javascript\") != -1):\n",
    "            if \"javascript\" not in result:\n",
    "                result[\"javascript\"] = answer_list[ans+1]\n",
    "            else:\n",
    "                result[\"javascript\"] += \"\\n\"\n",
    "                result[\"javascript\"] += answer_list[ans+1]\n",
    "        if(answer_list[ans].find(\"css\") != -1):\n",
    "            if \"css\" not in result:\n",
    "                result[\"css\"] = answer_list[ans+1]\n",
    "            else:\n",
    "                result[\"css\"] += \"\\n\"\n",
    "                result[\"css\"] += answer_list[ans+1]\n",
    "        if(answer_list[ans].find(\"html\") != -1):\n",
    "            if \"html\" not in result:\n",
    "                result[\"html\"] = answer_list[ans+1]\n",
    "            else:\n",
    "                result[\"html\"] += \"\\n\"\n",
    "                result[\"html\"] += answer_list[ans+1]\n",
    "        if(answer_list[ans].find(\"undefined\") != -1):\n",
    "            if \"undefined\" not in result:\n",
    "                result[\"undefined\"] = answer_list[ans+1]\n",
    "            else:\n",
    "                result[\"undefined\"] += \"\\n\"\n",
    "                result[\"undefined\"] += answer_list[ans+1]\n",
    "    return result\n",
    "            \n",
    "\n"
   ]
  },
  {
   "cell_type": "code",
   "execution_count": 4,
   "metadata": {},
   "outputs": [],
   "source": [
    "def clean_token(tokenized_words):\n",
    "    # in the form of [hsjsjs, hsdjjsd]\n",
    "    print(tokenized_words)\n",
    "    tokenized_words = tokenized_words[1:-1]\n",
    "    tokenized_words = tokenized_words.split(\",\")\n",
    "    \n",
    "    return tokenized_words\n",
    "    "
   ]
  },
  {
   "cell_type": "code",
   "execution_count": null,
   "metadata": {},
   "outputs": [],
   "source": [
    "def create_new_title_tag(tag):\n",
    "    return \"Returns \" + tag"
   ]
  },
  {
   "cell_type": "code",
   "execution_count": null,
   "metadata": {},
   "outputs": [],
   "source": [
    "def create_new_title_word(title):\n",
    "    found = []\n",
    "    for elem in elements:\n",
    "        if elem in title:\n",
    "            found.append(elem)\n",
    "            \n",
    "    result = \"Returns \"\n",
    "    for f in found:\n",
    "        result += (f + \" and \")\n",
    "    result = result[:-5]\n",
    "    return result"
   ]
  },
  {
   "cell_type": "code",
   "execution_count": null,
   "metadata": {},
   "outputs": [],
   "source": [
    "def tokenize_word(text):\n",
    "    tokens = word_tokenize(text)\n",
    "    result = \"\"\n",
    "    for word in tokens:\n",
    "        result += word\n",
    "        result += \",\"\n",
    "    result = result[:-1]\n",
    "    result += \"\"\n",
    "        \n",
    "    return result"
   ]
  },
  {
   "cell_type": "code",
   "execution_count": null,
   "metadata": {},
   "outputs": [],
   "source": [
    "def tokenize(answer):\n",
    "    try:\n",
    "        esprima.parseScript(answer)\n",
    "        tokenized = esprima.tokenize(answer)\n",
    "        result = \"\"\n",
    "        for token in tokenized:\n",
    "            result += token.value\n",
    "            result += \",\"\n",
    "        result = result[:-1]\n",
    "        return result\n",
    "    except:\n",
    "        print(\"error\")\n",
    "        return None"
   ]
  },
  {
   "cell_type": "code",
   "execution_count": null,
   "metadata": {},
   "outputs": [],
   "source": [
    "# contain_values = data[data['answer_code'].str.contains('$$$$$$$$$$$$$$$$$$$$$$$$$$$$$')]\n",
    "question_ids = data['question_id'].unique()"
   ]
  },
  {
   "cell_type": "code",
   "execution_count": null,
   "metadata": {},
   "outputs": [],
   "source": [
    "count = 0\n",
    "for question in question_ids:\n",
    "    print(count)\n",
    "    answer_code = data['answer_code'][data['question_id'] == question].unique()[0]\n",
    "    result = split_answer_code(answer_code)\n",
    "    data['javascript_code'][data['question_id'] == question] = result.get(\"javascript\")\n",
    "    data['html_code'][data['question_id'] == question] = result.get(\"html\")\n",
    "    data['css_code'][data['question_id'] == question] = result.get(\"css\")\n",
    "    data['undefined_code'][data['question_id'] == question] = result.get(\"undefined\")\n",
    "    count+=1\n"
   ]
  },
  {
   "cell_type": "code",
   "execution_count": null,
   "metadata": {},
   "outputs": [],
   "source": [
    "data[\"javascript_tokenized\"] = \"\""
   ]
  },
  {
   "cell_type": "code",
   "execution_count": null,
   "metadata": {},
   "outputs": [],
   "source": [
    "for question in question_ids:\n",
    "    js_code = data['javascript_code'][data['question_id'] == question].unique()[0]\n",
    "    if js_code is not None:\n",
    "        result = tokenize(js_code)\n",
    "        data['javascript_tokenized'][data['question_id'] == question] = result\n",
    "#         print(result)"
   ]
  },
  {
   "cell_type": "code",
   "execution_count": null,
   "metadata": {},
   "outputs": [],
   "source": [
    "data.head()"
   ]
  },
  {
   "cell_type": "code",
   "execution_count": null,
   "metadata": {},
   "outputs": [],
   "source": [
    "data[\"new_title_tag\"] = \"\"\n",
    "data[\"new_title_word\"] = \"\""
   ]
  },
  {
   "cell_type": "code",
   "execution_count": null,
   "metadata": {},
   "outputs": [],
   "source": [
    "elements = [\"menu\", \"header\", \"social-media\", \"footer\", \"navbar\", \"banner\", \"nav-bar\", \"navicon\", \"content\", \"image-slider\", \"search bar\", \"image-slider\", \"cookie\",  \"iframe\",\n",
    "\"ajax\", \"animate\", \"form\",\"google-map\"]"
   ]
  },
  {
   "cell_type": "code",
   "execution_count": null,
   "metadata": {},
   "outputs": [],
   "source": [
    "data['new_title_tag'] = data.apply(lambda row : create_new_title_tag(row['tags']), axis = 1)\n",
    "data['new_title_word'] = data.apply(lambda row : create_new_title_word(row['title'].lower()), axis = 1)"
   ]
  },
  {
   "cell_type": "code",
   "execution_count": null,
   "metadata": {},
   "outputs": [],
   "source": [
    "data[\"question_tokenized\"] = \"\""
   ]
  },
  {
   "cell_type": "code",
   "execution_count": null,
   "metadata": {},
   "outputs": [],
   "source": [
    "question_ids = data['question_id'].unique()"
   ]
  },
  {
   "cell_type": "code",
   "execution_count": null,
   "metadata": {},
   "outputs": [],
   "source": [
    "for question in question_ids:\n",
    "    question_text = data['question_text'][data['question_id'] == question].unique()[0]\n",
    "    result = tokenize_word(question_text)\n",
    "    print(result)\n",
    "    data['question_tokenized'][data['question_id'] == question] = result"
   ]
  },
  {
   "cell_type": "code",
   "execution_count": null,
   "metadata": {},
   "outputs": [],
   "source": [
    "for question in question_ids:\n",
    "    title_word = data['new_title_word'][data['question_id'] == question].unique()[0]\n",
    "    result = tokenize_word(title_word)\n",
    "    print(result)\n",
    "    data['title_word_tokenized'][data['question_id'] == question] = result"
   ]
  },
  {
   "cell_type": "code",
   "execution_count": null,
   "metadata": {},
   "outputs": [],
   "source": [
    "original_title_df = data.filter(['title','javascript_code','javascript_tokenized', 'question_tokenized'], axis=1)"
   ]
  },
  {
   "cell_type": "code",
   "execution_count": null,
   "metadata": {},
   "outputs": [],
   "source": [
    "original_title_df[\"repo\"] = \"\"\n",
    "original_title_df[\"path\"] = \"\"\n",
    "original_title_df[\"func_name\"] = \"\"\n",
    "original_title_df[\"url\"] = \"\"\n",
    "original_title_df[\"sha\"] = \"\"\n",
    "original_title_df[\"partition\"] = \"\"\n",
    "# new_df[\"original_string\"] = \"\"\n",
    "original_title_df[\"language\"] = \"javascript\"\n",
    "original_title_df[\"original_string\"] = original_title_df[\"javascript_code\"]"
   ]
  },
  {
   "cell_type": "code",
   "execution_count": null,
   "metadata": {},
   "outputs": [],
   "source": [
    "original_title_df.rename(columns={'javascript_code':'code'}, inplace=True)\n",
    "original_title_df.rename(columns={'javascript_tokenized':'code_tokens'}, inplace=True)\n",
    "original_title_df.rename(columns={'title':'docstring'}, inplace=True)\n",
    "original_title_df.rename(columns={'question_tokenized':'docstring_tokens'}, inplace=True)"
   ]
  },
  {
   "cell_type": "code",
   "execution_count": null,
   "metadata": {},
   "outputs": [],
   "source": [
    "original_title_df = original_title_df[~original_title_df['code'].isnull()]"
   ]
  },
  {
   "cell_type": "code",
   "execution_count": 5,
   "metadata": {},
   "outputs": [
    {
     "name": "stdout",
     "output_type": "stream",
     "text": [
      "angular,.,module,(,\"app\",,,[,],),.,controller,(,\"ctrl\",,,function,(,$scope,,,$timeout,,,$q,),{,$scope,.,wait,=,0,;,$scope,.,request,=,function,(,),{,const,timer,=,$q,.,defer,(,),;,timer,.,promise,.,then,(,function,(,value,),{,alert,(,value,),;,},),.,catch,(,(,),=>,{,},),;,$timeout,(,function,(,),{,timer,.,resolve,(,\"Request takes too long\",),;,},,,5000,),;,$timeout,(,function,(,),{,console,.,log,(,\"Resolving request\",),;,timer,.,reject,(,),;,},,,$scope,.,wait,*,1000,),;,},},),;\n",
      "Sometimes,it,takes,too,long,for,a,request,,,I,want,to,display,some,alert,or,toastr,when,this,happens,.,Any,idea,how,to,catch,the,request,time,?,Thanks,in,advance\n",
      "angular,.,module,(,\"app\",,,[,],),.,controller,(,\"ctrl\",,,function,(,$scope,,,$timeout,,,$q,),{,$scope,.,wait,=,0,;,$scope,.,request,=,function,(,),{,const,timer,=,$q,.,defer,(,),;,timer,.,promise,.,then,(,function,(,value,),{,alert,(,value,),;,},),.,catch,(,(,),=>,{,},),;,$timeout,(,function,(,),{,timer,.,resolve,(,\"Request takes too long\",),;,},,,5000,),;,$timeout,(,function,(,),{,console,.,log,(,\"Resolving request\",),;,timer,.,reject,(,),;,},,,$scope,.,wait,*,1000,),;,},},),;\n",
      "Sometimes,it,takes,too,long,for,a,request,,,I,want,to,display,some,alert,or,toastr,when,this,happens,.,Any,idea,how,to,catch,the,request,time,?,Thanks,in,advance\n",
      "var,keyword,=,document,.,getElementById,(,'user_input',),function,makeApiCall,(,),{,var,keywordValue,=,keyword,.,value,;,var,url,=,'someURL',+,keywordValue,+,'someURL',;,console,.,log,(,url,),},keyword,.,addEventListener,(,'input',,,makeApiCall,),var,keyword,=,$,(,'#user_input',),function,makeApiCall,(,),{,var,keywordValue,=,keyword,.,val,(,),;,var,url,=,'someURL',+,keywordValue,+,'someURL',;,console,.,log,(,url,),},keyword,.,on,(,'input',,,makeApiCall,)\n",
      "I,do,n't,know,why,document.getelementbyid,(,),.value,does,not,work,for,me.After,checking,the,console,,,I,can,not,see,any,input,was,sent,or,print,out,in,console,.,function,makeApiCall,(,),{,var,keyword,=,document.getElementById,(,'user_input,',),.value,;,console.log,(,document.getElementById,(,'user_input,',),.value,),;,var,url,=,'someURL,',+,keyword,+,'someURL,',;,$,.ajax,(,{,url,:,url,,,dataType,:,``,json,'',},),.then,(,function,(,photos,),{,console.log,(,photos,),},),},$,(,document,),.ready,(,function,(,),{,makeApiCall,(,),;,},),;,<,script,src=,'',https,:,//cdnjs.cloudflare.com/ajax/libs/jquery/3.3.1/jquery.min.js,'',>,<,/script,>,<,div,class=,'',col-sm-5,'',>,<,input,type=,'',text,'',class=,'',form-control,'',id=,'',user_input,'',placeholder=,'',Please,enter,the,keyword,'',>,<,/div,>,<,div,class=,'',col,'',>,<,button,id=,'',submit,'',class=,'',btn,btn-primary,'',onclick=,'',makeApiCall,(,),'',>,Submit,<,/button,>,<,/div,>\n",
      "var,keyword,=,document,.,getElementById,(,'user_input',),function,makeApiCall,(,),{,var,keywordValue,=,keyword,.,value,;,var,url,=,'someURL',+,keywordValue,+,'someURL',;,console,.,log,(,url,),},keyword,.,addEventListener,(,'input',,,makeApiCall,),var,keyword,=,$,(,'#user_input',),function,makeApiCall,(,),{,var,keywordValue,=,keyword,.,val,(,),;,var,url,=,'someURL',+,keywordValue,+,'someURL',;,console,.,log,(,url,),},keyword,.,on,(,'input',,,makeApiCall,)\n",
      "I,do,n't,know,why,document.getelementbyid,(,),.value,does,not,work,for,me.After,checking,the,console,,,I,can,not,see,any,input,was,sent,or,print,out,in,console,.,function,makeApiCall,(,),{,var,keyword,=,document.getElementById,(,'user_input,',),.value,;,console.log,(,document.getElementById,(,'user_input,',),.value,),;,var,url,=,'someURL,',+,keyword,+,'someURL,',;,$,.ajax,(,{,url,:,url,,,dataType,:,``,json,'',},),.then,(,function,(,photos,),{,console.log,(,photos,),},),},$,(,document,),.ready,(,function,(,),{,makeApiCall,(,),;,},),;,<,script,src=,'',https,:,//cdnjs.cloudflare.com/ajax/libs/jquery/3.3.1/jquery.min.js,'',>,<,/script,>,<,div,class=,'',col-sm-5,'',>,<,input,type=,'',text,'',class=,'',form-control,'',id=,'',user_input,'',placeholder=,'',Please,enter,the,keyword,'',>,<,/div,>,<,div,class=,'',col,'',>,<,button,id=,'',submit,'',class=,'',btn,btn-primary,'',onclick=,'',makeApiCall,(,),'',>,Submit,<,/button,>,<,/div,>\n",
      "var,keyword,=,document,.,getElementById,(,'user_input',),function,makeApiCall,(,),{,var,keywordValue,=,keyword,.,value,;,var,url,=,'someURL',+,keywordValue,+,'someURL',;,console,.,log,(,url,),},keyword,.,addEventListener,(,'input',,,makeApiCall,),var,keyword,=,$,(,'#user_input',),function,makeApiCall,(,),{,var,keywordValue,=,keyword,.,val,(,),;,var,url,=,'someURL',+,keywordValue,+,'someURL',;,console,.,log,(,url,),},keyword,.,on,(,'input',,,makeApiCall,)\n",
      "I,do,n't,know,why,document.getelementbyid,(,),.value,does,not,work,for,me.After,checking,the,console,,,I,can,not,see,any,input,was,sent,or,print,out,in,console,.,function,makeApiCall,(,),{,var,keyword,=,document.getElementById,(,'user_input,',),.value,;,console.log,(,document.getElementById,(,'user_input,',),.value,),;,var,url,=,'someURL,',+,keyword,+,'someURL,',;,$,.ajax,(,{,url,:,url,,,dataType,:,``,json,'',},),.then,(,function,(,photos,),{,console.log,(,photos,),},),},$,(,document,),.ready,(,function,(,),{,makeApiCall,(,),;,},),;,<,script,src=,'',https,:,//cdnjs.cloudflare.com/ajax/libs/jquery/3.3.1/jquery.min.js,'',>,<,/script,>,<,div,class=,'',col-sm-5,'',>,<,input,type=,'',text,'',class=,'',form-control,'',id=,'',user_input,'',placeholder=,'',Please,enter,the,keyword,'',>,<,/div,>,<,div,class=,'',col,'',>,<,button,id=,'',submit,'',class=,'',btn,btn-primary,'',onclick=,'',makeApiCall,(,),'',>,Submit,<,/button,>,<,/div,>\n",
      "variables\n",
      "I,have,the,following,GraphQL,query,(,using,Apollo,Client,JS,),:,This,works,well,when,I,pass,in,the,$,searchFilter,argument,.,However,,,I,want,this,$,searchFilter,argument,to,be,optional,.,So,when,it,'s,null,it,does,n't,apply,the,filter.This,seems,simple,enough,,,but,the,API,requires,the,search,to,be,non-nullable,.,So,passing,in,filter,:,{,search,:,null,},is,not,allowed.I,would,like,to,achieve,the,following,:,How,do,I,conditionally,include,the,filter,argument,?\n",
      "variables\n",
      "I,have,the,following,GraphQL,query,(,using,Apollo,Client,JS,),:,This,works,well,when,I,pass,in,the,$,searchFilter,argument,.,However,,,I,want,this,$,searchFilter,argument,to,be,optional,.,So,when,it,'s,null,it,does,n't,apply,the,filter.This,seems,simple,enough,,,but,the,API,requires,the,search,to,be,non-nullable,.,So,passing,in,filter,:,{,search,:,null,},is,not,allowed.I,would,like,to,achieve,the,following,:,How,do,I,conditionally,include,the,filter,argument,?\n",
      "variables\n",
      "I,have,the,following,GraphQL,query,(,using,Apollo,Client,JS,),:,This,works,well,when,I,pass,in,the,$,searchFilter,argument,.,However,,,I,want,this,$,searchFilter,argument,to,be,optional,.,So,when,it,'s,null,it,does,n't,apply,the,filter.This,seems,simple,enough,,,but,the,API,requires,the,search,to,be,non-nullable,.,So,passing,in,filter,:,{,search,:,null,},is,not,allowed.I,would,like,to,achieve,the,following,:,How,do,I,conditionally,include,the,filter,argument,?\n",
      "var,doc,=,app,.,activeDocument,;,var,artBoardToCopyFrom,=,doc,.,layerSets,[,doc,.,layerSets,.,length,-,1,],;,var,layerToCopy,=,artBoardToCopyFrom,.,layers,[,0,],;,doc,.,activeLayer,=,layerToCopy,;,doc,.,selection,.,selectAll,(,),;,doc,.,selection,.,copy,(,),;,for,(,var,g,=,0,;,g,<,doc,.,layerSets,.,length,-,1,;,g,++,),{,doc,.,activeLayer,=,doc,.,layerSets,[,g,],.,artLayers,[,0,],;,doc,.,selection,.,selectAll,(,),;,doc,.,paste,(,true,),;,}\n",
      "Is,there,any,way,or,script,to,copy,layer,to,all,artboards,in,Photoshop,?,Thank,you,in,advance,,,because,I,could,not,find,a,solution\n",
      "var,doc,=,app,.,activeDocument,;,var,artBoardToCopyFrom,=,doc,.,layerSets,[,doc,.,layerSets,.,length,-,1,],;,var,layerToCopy,=,artBoardToCopyFrom,.,layers,[,0,],;,doc,.,activeLayer,=,layerToCopy,;,doc,.,selection,.,selectAll,(,),;,doc,.,selection,.,copy,(,),;,for,(,var,g,=,0,;,g,<,doc,.,layerSets,.,length,-,1,;,g,++,),{,doc,.,activeLayer,=,doc,.,layerSets,[,g,],.,artLayers,[,0,],;,doc,.,selection,.,selectAll,(,),;,doc,.,paste,(,true,),;,}\n",
      "Is,there,any,way,or,script,to,copy,layer,to,all,artboards,in,Photoshop,?,Thank,you,in,advance,,,because,I,could,not,find,a,solution\n",
      "var,doc,=,app,.,activeDocument,;,var,artBoardToCopyFrom,=,doc,.,layerSets,[,doc,.,layerSets,.,length,-,1,],;,var,layerToCopy,=,artBoardToCopyFrom,.,layers,[,0,],;,doc,.,activeLayer,=,layerToCopy,;,doc,.,selection,.,selectAll,(,),;,doc,.,selection,.,copy,(,),;,for,(,var,g,=,0,;,g,<,doc,.,layerSets,.,length,-,1,;,g,++,),{,doc,.,activeLayer,=,doc,.,layerSets,[,g,],.,artLayers,[,0,],;,doc,.,selection,.,selectAll,(,),;,doc,.,paste,(,true,),;,}\n",
      "Is,there,any,way,or,script,to,copy,layer,to,all,artboards,in,Photoshop,?,Thank,you,in,advance,,,because,I,could,not,find,a,solution\n",
      "var,doc,=,app,.,activeDocument,;,var,artBoardToCopyFrom,=,doc,.,layerSets,[,doc,.,layerSets,.,length,-,1,],;,var,layerToCopy,=,artBoardToCopyFrom,.,layers,[,0,],;,doc,.,activeLayer,=,layerToCopy,;,doc,.,selection,.,selectAll,(,),;,doc,.,selection,.,copy,(,),;,for,(,var,g,=,0,;,g,<,doc,.,layerSets,.,length,-,1,;,g,++,),{,doc,.,activeLayer,=,doc,.,layerSets,[,g,],.,artLayers,[,0,],;,doc,.,selection,.,selectAll,(,),;,doc,.,paste,(,true,),;,}\n",
      "Is,there,any,way,or,script,to,copy,layer,to,all,artboards,in,Photoshop,?,Thank,you,in,advance,,,because,I,could,not,find,a,solution\n",
      "var,doc,=,app,.,activeDocument,;,var,artBoardToCopyFrom,=,doc,.,layerSets,[,doc,.,layerSets,.,length,-,1,],;,var,layerToCopy,=,artBoardToCopyFrom,.,layers,[,0,],;,doc,.,activeLayer,=,layerToCopy,;,doc,.,selection,.,selectAll,(,),;,doc,.,selection,.,copy,(,),;,for,(,var,g,=,0,;,g,<,doc,.,layerSets,.,length,-,1,;,g,++,),{,doc,.,activeLayer,=,doc,.,layerSets,[,g,],.,artLayers,[,0,],;,doc,.,selection,.,selectAll,(,),;,doc,.,paste,(,true,),;,}\n",
      "Is,there,any,way,or,script,to,copy,layer,to,all,artboards,in,Photoshop,?,Thank,you,in,advance,,,because,I,could,not,find,a,solution\n",
      "element,===,'firstName',if,(,element,===,firstName,||,element,===,lastName,&&,isNaN,(,element,.,target,.,value,),),{,submitButton,.,setAttribute,(,'disabled',,,'true',),;,}\n",
      "I,am,trying,to,nest,another,if,statement,inside,the,following,if,statement,for,form,validation,.,Basically,I,want,the,if,statement,to,apply,to,all,the,fields,(,as,it,currently,does,),but,then,provide,extra,requirements,for,certain,fields,.,the,nested,if,statement,is,doing,nothing,right,now,.,Ideally,I,would,like,to,be,able,to,have,an,extra,parameter,for,the,inputValidation,function,calls,which,I,could,set,to,true,if,I,require,that,the,field,only,accept,non-numbers,.,But,a,nested,if,statement,as,I,have,written,below,which,works,would,serve,just,as,well,!,const,firstName,=,document.getElementById,(,'fname,',),;,const,lastName,=,document.getElementById,(,'lname,',),;,const,email,=,document.getElementById,(,'email,',),;,const,fAddress,=,document.getElementById,(,'first-line-address,',),;,const,city,=,document.getElementById,(,'city,',),;,const,country,=,document.getElementById,(,'country,',),;,const,postcode,=,document.getElementById,(,'postcode,',),;,const,submitButton,=,document.getElementById,(,'submit,',),;,function,inputValidation,(,element,,,greaterThan,,,lessThan,),{,element.addEventListener,(,'input,',,,function,(,element,),{,if,(,element.target.value.length,>,=,greaterThan,&,&,element.target.value.length,<,=,lessThan,),{,submitButton.removeAttribute,(,'disabled,',),;,//,nested,if,statements,isNaN,if,(,element,===,'firstName,',||,element,===,'lastName,',&,&,isNaN,(,element.target.value,),),{,submitButton.setAttribute,(,'disabled,',,,'true,',),;,},},else,{,submitButton.setAttribute,(,'disabled,',,,'true,',),;,},},),},inputValidation,(,firstName,,,2,,,15,),;,inputValidation,(,lastName,,,4,,,20,),;,inputValidation,(,email,,,7,,,40,),;,inputValidation,(,fAddress,,,10,,,40,),;,inputValidation,(,city,,,3,,,40,),;,inputValidation,(,postcode,,,8,,,8,),;\n",
      "element,===,'firstName',if,(,element,===,firstName,||,element,===,lastName,&&,isNaN,(,element,.,target,.,value,),),{,submitButton,.,setAttribute,(,'disabled',,,'true',),;,}\n",
      "I,am,trying,to,nest,another,if,statement,inside,the,following,if,statement,for,form,validation,.,Basically,I,want,the,if,statement,to,apply,to,all,the,fields,(,as,it,currently,does,),but,then,provide,extra,requirements,for,certain,fields,.,the,nested,if,statement,is,doing,nothing,right,now,.,Ideally,I,would,like,to,be,able,to,have,an,extra,parameter,for,the,inputValidation,function,calls,which,I,could,set,to,true,if,I,require,that,the,field,only,accept,non-numbers,.,But,a,nested,if,statement,as,I,have,written,below,which,works,would,serve,just,as,well,!,const,firstName,=,document.getElementById,(,'fname,',),;,const,lastName,=,document.getElementById,(,'lname,',),;,const,email,=,document.getElementById,(,'email,',),;,const,fAddress,=,document.getElementById,(,'first-line-address,',),;,const,city,=,document.getElementById,(,'city,',),;,const,country,=,document.getElementById,(,'country,',),;,const,postcode,=,document.getElementById,(,'postcode,',),;,const,submitButton,=,document.getElementById,(,'submit,',),;,function,inputValidation,(,element,,,greaterThan,,,lessThan,),{,element.addEventListener,(,'input,',,,function,(,element,),{,if,(,element.target.value.length,>,=,greaterThan,&,&,element.target.value.length,<,=,lessThan,),{,submitButton.removeAttribute,(,'disabled,',),;,//,nested,if,statements,isNaN,if,(,element,===,'firstName,',||,element,===,'lastName,',&,&,isNaN,(,element.target.value,),),{,submitButton.setAttribute,(,'disabled,',,,'true,',),;,},},else,{,submitButton.setAttribute,(,'disabled,',,,'true,',),;,},},),},inputValidation,(,firstName,,,2,,,15,),;,inputValidation,(,lastName,,,4,,,20,),;,inputValidation,(,email,,,7,,,40,),;,inputValidation,(,fAddress,,,10,,,40,),;,inputValidation,(,city,,,3,,,40,),;,inputValidation,(,postcode,,,8,,,8,),;\n",
      "element,===,'firstName',if,(,element,===,firstName,||,element,===,lastName,&&,isNaN,(,element,.,target,.,value,),),{,submitButton,.,setAttribute,(,'disabled',,,'true',),;,}\n",
      "I,am,trying,to,nest,another,if,statement,inside,the,following,if,statement,for,form,validation,.,Basically,I,want,the,if,statement,to,apply,to,all,the,fields,(,as,it,currently,does,),but,then,provide,extra,requirements,for,certain,fields,.,the,nested,if,statement,is,doing,nothing,right,now,.,Ideally,I,would,like,to,be,able,to,have,an,extra,parameter,for,the,inputValidation,function,calls,which,I,could,set,to,true,if,I,require,that,the,field,only,accept,non-numbers,.,But,a,nested,if,statement,as,I,have,written,below,which,works,would,serve,just,as,well,!,const,firstName,=,document.getElementById,(,'fname,',),;,const,lastName,=,document.getElementById,(,'lname,',),;,const,email,=,document.getElementById,(,'email,',),;,const,fAddress,=,document.getElementById,(,'first-line-address,',),;,const,city,=,document.getElementById,(,'city,',),;,const,country,=,document.getElementById,(,'country,',),;,const,postcode,=,document.getElementById,(,'postcode,',),;,const,submitButton,=,document.getElementById,(,'submit,',),;,function,inputValidation,(,element,,,greaterThan,,,lessThan,),{,element.addEventListener,(,'input,',,,function,(,element,),{,if,(,element.target.value.length,>,=,greaterThan,&,&,element.target.value.length,<,=,lessThan,),{,submitButton.removeAttribute,(,'disabled,',),;,//,nested,if,statements,isNaN,if,(,element,===,'firstName,',||,element,===,'lastName,',&,&,isNaN,(,element.target.value,),),{,submitButton.setAttribute,(,'disabled,',,,'true,',),;,},},else,{,submitButton.setAttribute,(,'disabled,',,,'true,',),;,},},),},inputValidation,(,firstName,,,2,,,15,),;,inputValidation,(,lastName,,,4,,,20,),;,inputValidation,(,email,,,7,,,40,),;,inputValidation,(,fAddress,,,10,,,40,),;,inputValidation,(,city,,,3,,,40,),;,inputValidation,(,postcode,,,8,,,8,),;\n",
      "element,===,'firstName',if,(,element,===,firstName,||,element,===,lastName,&&,isNaN,(,element,.,target,.,value,),),{,submitButton,.,setAttribute,(,'disabled',,,'true',),;,}\n",
      "I,am,trying,to,nest,another,if,statement,inside,the,following,if,statement,for,form,validation,.,Basically,I,want,the,if,statement,to,apply,to,all,the,fields,(,as,it,currently,does,),but,then,provide,extra,requirements,for,certain,fields,.,the,nested,if,statement,is,doing,nothing,right,now,.,Ideally,I,would,like,to,be,able,to,have,an,extra,parameter,for,the,inputValidation,function,calls,which,I,could,set,to,true,if,I,require,that,the,field,only,accept,non-numbers,.,But,a,nested,if,statement,as,I,have,written,below,which,works,would,serve,just,as,well,!,const,firstName,=,document.getElementById,(,'fname,',),;,const,lastName,=,document.getElementById,(,'lname,',),;,const,email,=,document.getElementById,(,'email,',),;,const,fAddress,=,document.getElementById,(,'first-line-address,',),;,const,city,=,document.getElementById,(,'city,',),;,const,country,=,document.getElementById,(,'country,',),;,const,postcode,=,document.getElementById,(,'postcode,',),;,const,submitButton,=,document.getElementById,(,'submit,',),;,function,inputValidation,(,element,,,greaterThan,,,lessThan,),{,element.addEventListener,(,'input,',,,function,(,element,),{,if,(,element.target.value.length,>,=,greaterThan,&,&,element.target.value.length,<,=,lessThan,),{,submitButton.removeAttribute,(,'disabled,',),;,//,nested,if,statements,isNaN,if,(,element,===,'firstName,',||,element,===,'lastName,',&,&,isNaN,(,element.target.value,),),{,submitButton.setAttribute,(,'disabled,',,,'true,',),;,},},else,{,submitButton.setAttribute,(,'disabled,',,,'true,',),;,},},),},inputValidation,(,firstName,,,2,,,15,),;,inputValidation,(,lastName,,,4,,,20,),;,inputValidation,(,email,,,7,,,40,),;,inputValidation,(,fAddress,,,10,,,40,),;,inputValidation,(,city,,,3,,,40,),;,inputValidation,(,postcode,,,8,,,8,),;\n",
      "None\n"
     ]
    },
    {
     "ename": "TypeError",
     "evalue": "'NoneType' object is not subscriptable",
     "output_type": "error",
     "traceback": [
      "\u001b[0;31m---------------------------------------------------------------------------\u001b[0m",
      "\u001b[0;31mTypeError\u001b[0m                                 Traceback (most recent call last)",
      "\u001b[0;32m<ipython-input-5-295964330d9b>\u001b[0m in \u001b[0;36m<module>\u001b[0;34m\u001b[0m\n\u001b[1;32m      1\u001b[0m \u001b[0mdata_dict\u001b[0m \u001b[0;34m=\u001b[0m \u001b[0mdata\u001b[0m\u001b[0;34m.\u001b[0m\u001b[0mto_dict\u001b[0m\u001b[0;34m(\u001b[0m\u001b[0morient\u001b[0m\u001b[0;34m=\u001b[0m\u001b[0;34m'records'\u001b[0m\u001b[0;34m)\u001b[0m \u001b[0;31m#list of dictionaries\u001b[0m\u001b[0;34m\u001b[0m\u001b[0;34m\u001b[0m\u001b[0m\n\u001b[1;32m      2\u001b[0m \u001b[0;32mfor\u001b[0m \u001b[0msingle\u001b[0m \u001b[0;32min\u001b[0m \u001b[0mdata_dict\u001b[0m\u001b[0;34m:\u001b[0m\u001b[0;34m\u001b[0m\u001b[0;34m\u001b[0m\u001b[0m\n\u001b[0;32m----> 3\u001b[0;31m     \u001b[0msingle\u001b[0m\u001b[0;34m[\u001b[0m\u001b[0;34m\"code_tokens\"\u001b[0m\u001b[0;34m]\u001b[0m \u001b[0;34m=\u001b[0m \u001b[0mclean_token\u001b[0m\u001b[0;34m(\u001b[0m\u001b[0msingle\u001b[0m\u001b[0;34m[\u001b[0m\u001b[0;34m\"code_tokens\"\u001b[0m\u001b[0;34m]\u001b[0m\u001b[0;34m)\u001b[0m\u001b[0;34m\u001b[0m\u001b[0;34m\u001b[0m\u001b[0m\n\u001b[0m\u001b[1;32m      4\u001b[0m     \u001b[0msingle\u001b[0m\u001b[0;34m[\u001b[0m\u001b[0;34m\"docstring_tokens\"\u001b[0m\u001b[0;34m]\u001b[0m \u001b[0;34m=\u001b[0m \u001b[0mclean_token\u001b[0m\u001b[0;34m(\u001b[0m\u001b[0msingle\u001b[0m\u001b[0;34m[\u001b[0m\u001b[0;34m\"docstring_tokens\"\u001b[0m\u001b[0;34m]\u001b[0m\u001b[0;34m)\u001b[0m\u001b[0;34m\u001b[0m\u001b[0;34m\u001b[0m\u001b[0m\n",
      "\u001b[0;32m<ipython-input-4-4f9712f5d030>\u001b[0m in \u001b[0;36mclean_token\u001b[0;34m(tokenized_words)\u001b[0m\n\u001b[1;32m      2\u001b[0m     \u001b[0;31m# in the form of [hsjsjs, hsdjjsd]\u001b[0m\u001b[0;34m\u001b[0m\u001b[0;34m\u001b[0m\u001b[0;34m\u001b[0m\u001b[0m\n\u001b[1;32m      3\u001b[0m     \u001b[0mprint\u001b[0m\u001b[0;34m(\u001b[0m\u001b[0mtokenized_words\u001b[0m\u001b[0;34m)\u001b[0m\u001b[0;34m\u001b[0m\u001b[0;34m\u001b[0m\u001b[0m\n\u001b[0;32m----> 4\u001b[0;31m     \u001b[0mtokenized_words\u001b[0m \u001b[0;34m=\u001b[0m \u001b[0mtokenized_words\u001b[0m\u001b[0;34m[\u001b[0m\u001b[0;36m1\u001b[0m\u001b[0;34m:\u001b[0m\u001b[0;34m-\u001b[0m\u001b[0;36m1\u001b[0m\u001b[0;34m]\u001b[0m\u001b[0;34m\u001b[0m\u001b[0;34m\u001b[0m\u001b[0m\n\u001b[0m\u001b[1;32m      5\u001b[0m     \u001b[0mtokenized_words\u001b[0m \u001b[0;34m=\u001b[0m \u001b[0mtokenized_words\u001b[0m\u001b[0;34m.\u001b[0m\u001b[0msplit\u001b[0m\u001b[0;34m(\u001b[0m\u001b[0;34m\",\"\u001b[0m\u001b[0;34m)\u001b[0m\u001b[0;34m\u001b[0m\u001b[0;34m\u001b[0m\u001b[0m\n\u001b[1;32m      6\u001b[0m \u001b[0;34m\u001b[0m\u001b[0m\n",
      "\u001b[0;31mTypeError\u001b[0m: 'NoneType' object is not subscriptable"
     ]
    }
   ],
   "source": [
    "data_dict = data.to_dict(orient='records') #list of dictionaries\n",
    "for single in data_dict:\n",
    "    single[\"code_tokens\"] = clean_token(single[\"code_tokens\"])\n",
    "    single[\"docstring_tokens\"] = clean_token(single[\"docstring_tokens\"])\n"
   ]
  },
  {
   "cell_type": "code",
   "execution_count": 6,
   "metadata": {},
   "outputs": [],
   "source": [
    "random.shuffle(data_dict)"
   ]
  },
  {
   "cell_type": "code",
   "execution_count": null,
   "metadata": {},
   "outputs": [],
   "source": [
    "with open('stack_overflow_try2/javascript1951_2600/train.jsonl', 'w') as outfile:\n",
    "    for single in data_dict[:6258]:\n",
    "        test = json.dumps(single)\n",
    "#         print(test)\n",
    "        outfile.write(test)\n",
    "        outfile.write(\"\\n\")\n",
    "\n",
    "outfile.close()"
   ]
  },
  {
   "cell_type": "code",
   "execution_count": null,
   "metadata": {},
   "outputs": [],
   "source": [
    "with open('stack_overflow_try2/javascript1951_2600/train.jsonl', 'w') as outfile:\n",
    "    for single in data_dict[:6258]:\n",
    "        test = json.dumps(single)\n",
    "#         print(test)\n",
    "        outfile.write(test)\n",
    "        outfile.write(\"\\n\")\n",
    "\n",
    "outfile.close()"
   ]
  }
 ],
 "metadata": {
  "kernelspec": {
   "display_name": "jupyter-venv",
   "language": "python",
   "name": "jupyter-venv"
  },
  "language_info": {
   "codemirror_mode": {
    "name": "ipython",
    "version": 3
   },
   "file_extension": ".py",
   "mimetype": "text/x-python",
   "name": "python",
   "nbconvert_exporter": "python",
   "pygments_lexer": "ipython3",
   "version": "3.8.0"
  }
 },
 "nbformat": 4,
 "nbformat_minor": 4
}
