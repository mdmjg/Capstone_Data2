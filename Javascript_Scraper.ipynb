{
 "cells": [
  {
   "cell_type": "code",
   "execution_count": 30,
   "metadata": {},
   "outputs": [],
   "source": [
    "import urllib\n",
    "import pandas as pd\n",
    "import json\n",
    "import numpy as np\n",
    "import requests\n"
   ]
  },
  {
   "cell_type": "code",
   "execution_count": 31,
   "metadata": {},
   "outputs": [],
   "source": [
    "base_url = \"https://api.stackexchange.com/2.2/search\""
   ]
  },
  {
   "cell_type": "code",
   "execution_count": 32,
   "metadata": {},
   "outputs": [],
   "source": [
    "def fetch_data(page_start, page_end):\n",
    "    dataframes = []\n",
    "    current_page = page_start\n",
    "    base_url = \"https://api.stackexchange.com/2.2/search\"\n",
    "    params = {\"order\": \"desc\",\n",
    "        \"sort\": \"activity\",\n",
    "        \"tagged\": \"javascript\",\n",
    "        \"site\": \"stackoverflow\",\n",
    "         \"pagesize\": 100,\n",
    "        \"key\": \"aL0X1YNlgSeQ2MfrTAiLRA((\",\n",
    "         \"page\": current_page}\n",
    "\n",
    "    result = requests.get(base_url, params=params)\n",
    "    data = result.json()\n",
    "    \n",
    "    wanted_columns = [\"tags\", \"question_id\", \"title\"]\n",
    "    while data and current_page <= page_end:\n",
    "        print(data)\n",
    "        print(\"current page\", current_page)\n",
    "        if data[\"has_more\"]:\n",
    "            items = data[\"items\"]\n",
    "            for item in items:\n",
    "                if item[\"is_answered\"]:\n",
    "                    cleaned_dict = { col: item[col] for col in wanted_columns }\n",
    "                    dataframes.append(pd.DataFrame(cleaned_dict))\n",
    "            current_page += 1\n",
    "            params[\"page\"] = current_page\n",
    "            result = requests.get(base_url, params=params)\n",
    "            data = result.json()\n",
    "        else:\n",
    "            if(len(dataframes) > 0):\n",
    "                merged = pd.concat(dataframes)\n",
    "                return merged\n",
    "            else:\n",
    "                return \n",
    "        \n",
    "    if(len(dataframes) > 0):\n",
    "        merged = pd.concat(dataframes)\n",
    "        return merged\n",
    "        \n"
   ]
  },
  {
   "cell_type": "code",
   "execution_count": 33,
   "metadata": {},
   "outputs": [],
   "source": [
    "page_start = 1301 #replace\n",
    "page_end = 1869 #replace\n",
    "# data = fetch_data(page_start, page_end)"
   ]
  },
  {
   "cell_type": "code",
   "execution_count": 8,
   "metadata": {},
   "outputs": [],
   "source": [
    "# So far, we have the question IDs. Save the progress!\n",
    "data.to_pickle(\"./javascript\"+str(page_start)+\"_\"+str(page_end))"
   ]
  },
  {
   "cell_type": "code",
   "execution_count": 34,
   "metadata": {},
   "outputs": [],
   "source": [
    "# if your file ever times out, save the pickle file and then read it with this command. Replace the value of page_start (when calling the function to fetch questions ) to where you left off\n",
    "data = pd.read_pickle(\"./javascript\"+str(page_start)+\"_\"+str(page_end)+\"_with_answers\")\n"
   ]
  },
  {
   "cell_type": "code",
   "execution_count": 51,
   "metadata": {},
   "outputs": [],
   "source": [
    "def fetch_answer_id(question_id):\n",
    "    print(question_id)\n",
    "    base_url = \"https://api.stackexchange.com/2.2/questions/\" + question_id + \"/answers/\"\n",
    "    params = {\"order\": \"desc\",\n",
    "        \"sort\": \"votes\",\n",
    "        \"tagged\": \"javascript\",\n",
    "        \"site\": \"stackoverflow\",\n",
    "         \"pagesize\": 10,\n",
    "        \"key\": \"aL0X1YNlgSeQ2MfrTAiLRA((\"\n",
    "        }\n",
    "\n",
    "    result = requests.get(base_url, params=params)\n",
    "    data = result.json()\n",
    "    print(data)\n",
    "    \n",
    "    items = data[\"items\"]\n",
    "    item = items[0][\"answer_id\"]\n",
    "    print(item)\n",
    "    return item\n",
    "        \n"
   ]
  },
  {
   "cell_type": "code",
   "execution_count": 12,
   "metadata": {},
   "outputs": [],
   "source": [
    "# initialize the column where we will be storing the answer ids\n",
    "if \"answer_id\" not in data:\n",
    "    data[\"answer_id\"] = 0"
   ]
  },
  {
   "cell_type": "code",
   "execution_count": 36,
   "metadata": {},
   "outputs": [],
   "source": [
    "# get the IDs of questions without an answer ID, this ensures that when your requests timeout, \n",
    "#you can run this line again and only fetch the questions without an answer\n",
    "\n",
    "missing_question_ids = data[data[\"answer_id\"] == 0]['question_id'].unique()\n"
   ]
  },
  {
   "cell_type": "code",
   "execution_count": 52,
   "metadata": {},
   "outputs": [],
   "source": [
    "# uncomment and run this line if you accidentally closed the file and need to open the answers again\n",
    "\n",
    "# data = pd.read_pickle(\"./javascript\"+str(page_start)+\"_\"+str(page_end)+\"_with_answers\")\n",
    "\n",
    "missing_question_ids = data[data[\"answer_id\"] == 0]['question_id'].unique()"
   ]
  },
  {
   "cell_type": "code",
   "execution_count": 53,
   "metadata": {},
   "outputs": [
    {
     "data": {
      "text/plain": [
       "4435"
      ]
     },
     "execution_count": 53,
     "metadata": {},
     "output_type": "execute_result"
    }
   ],
   "source": [
    "len(missing_question_ids)"
   ]
  },
  {
   "cell_type": "code",
   "execution_count": 56,
   "metadata": {},
   "outputs": [
    {
     "name": "stdout",
     "output_type": "stream",
     "text": [
      "49288987\n",
      "{'error_id': 502, 'error_message': 'too many requests from this IP, more requests available in 3676 seconds', 'error_name': 'throttle_violation'}\n"
     ]
    },
    {
     "ename": "KeyError",
     "evalue": "'items'",
     "output_type": "error",
     "traceback": [
      "\u001b[0;31m---------------------------------------------------------------------------\u001b[0m",
      "\u001b[0;31mKeyError\u001b[0m                                  Traceback (most recent call last)",
      "\u001b[0;32m<ipython-input-56-0bc497864581>\u001b[0m in \u001b[0;36m<module>\u001b[0;34m\u001b[0m\n\u001b[1;32m      1\u001b[0m \u001b[0;32mfor\u001b[0m \u001b[0mquestion\u001b[0m \u001b[0;32min\u001b[0m \u001b[0mmissing_question_ids\u001b[0m\u001b[0;34m:\u001b[0m\u001b[0;34m\u001b[0m\u001b[0;34m\u001b[0m\u001b[0m\n\u001b[0;32m----> 2\u001b[0;31m     \u001b[0manswer_id\u001b[0m \u001b[0;34m=\u001b[0m \u001b[0mfetch_answer_id\u001b[0m\u001b[0;34m(\u001b[0m\u001b[0mstr\u001b[0m\u001b[0;34m(\u001b[0m\u001b[0mquestion\u001b[0m\u001b[0;34m)\u001b[0m\u001b[0;34m)\u001b[0m\u001b[0;34m\u001b[0m\u001b[0;34m\u001b[0m\u001b[0m\n\u001b[0m\u001b[1;32m      3\u001b[0m     \u001b[0mdata\u001b[0m\u001b[0;34m[\u001b[0m\u001b[0;34m'answer_id'\u001b[0m\u001b[0;34m]\u001b[0m\u001b[0;34m[\u001b[0m\u001b[0mdata\u001b[0m\u001b[0;34m[\u001b[0m\u001b[0;34m'question_id'\u001b[0m\u001b[0;34m]\u001b[0m \u001b[0;34m==\u001b[0m \u001b[0mquestion\u001b[0m\u001b[0;34m]\u001b[0m \u001b[0;34m=\u001b[0m \u001b[0manswer_id\u001b[0m\u001b[0;34m\u001b[0m\u001b[0;34m\u001b[0m\u001b[0m\n",
      "\u001b[0;32m<ipython-input-51-e2125e1e2581>\u001b[0m in \u001b[0;36mfetch_answer_id\u001b[0;34m(question_id)\u001b[0m\n\u001b[1;32m     14\u001b[0m     \u001b[0mprint\u001b[0m\u001b[0;34m(\u001b[0m\u001b[0mdata\u001b[0m\u001b[0;34m)\u001b[0m\u001b[0;34m\u001b[0m\u001b[0;34m\u001b[0m\u001b[0m\n\u001b[1;32m     15\u001b[0m \u001b[0;34m\u001b[0m\u001b[0m\n\u001b[0;32m---> 16\u001b[0;31m     \u001b[0mitems\u001b[0m \u001b[0;34m=\u001b[0m \u001b[0mdata\u001b[0m\u001b[0;34m[\u001b[0m\u001b[0;34m\"items\"\u001b[0m\u001b[0;34m]\u001b[0m\u001b[0;34m\u001b[0m\u001b[0;34m\u001b[0m\u001b[0m\n\u001b[0m\u001b[1;32m     17\u001b[0m     \u001b[0mitem\u001b[0m \u001b[0;34m=\u001b[0m \u001b[0mitems\u001b[0m\u001b[0;34m[\u001b[0m\u001b[0;36m0\u001b[0m\u001b[0;34m]\u001b[0m\u001b[0;34m[\u001b[0m\u001b[0;34m\"answer_id\"\u001b[0m\u001b[0;34m]\u001b[0m\u001b[0;34m\u001b[0m\u001b[0;34m\u001b[0m\u001b[0m\n\u001b[1;32m     18\u001b[0m     \u001b[0mprint\u001b[0m\u001b[0;34m(\u001b[0m\u001b[0mitem\u001b[0m\u001b[0;34m)\u001b[0m\u001b[0;34m\u001b[0m\u001b[0;34m\u001b[0m\u001b[0m\n",
      "\u001b[0;31mKeyError\u001b[0m: 'items'"
     ]
    }
   ],
   "source": [
    "for question in missing_question_ids:\n",
    "    answer_id = fetch_answer_id(str(question))\n",
    "    data['answer_id'][data['question_id'] == question] = answer_id"
   ]
  },
  {
   "cell_type": "code",
   "execution_count": 55,
   "metadata": {},
   "outputs": [],
   "source": [
    "data.to_pickle(\"./javascript\"+str(page_start)+\"_\"+str(page_end)+\"_with_answers\")"
   ]
  },
  {
   "cell_type": "code",
   "execution_count": 47,
   "metadata": {},
   "outputs": [],
   "source": [
    "data = data[data[\"question_id\"] != 64634934]"
   ]
  },
  {
   "cell_type": "code",
   "execution_count": null,
   "metadata": {},
   "outputs": [],
   "source": []
  }
 ],
 "metadata": {
  "kernelspec": {
   "display_name": "Python 3",
   "language": "python",
   "name": "python3"
  },
  "language_info": {
   "codemirror_mode": {
    "name": "ipython",
    "version": 3
   },
   "file_extension": ".py",
   "mimetype": "text/x-python",
   "name": "python",
   "nbconvert_exporter": "python",
   "pygments_lexer": "ipython3",
   "version": "3.8.6"
  }
 },
 "nbformat": 4,
 "nbformat_minor": 4
}
