{
 "cells": [
  {
   "cell_type": "code",
   "execution_count": 2,
   "metadata": {},
   "outputs": [],
   "source": [
    "import urllib\n",
    "import pandas as pd\n",
    "import json\n"
   ]
  },
  {
   "cell_type": "code",
   "execution_count": 3,
   "metadata": {},
   "outputs": [],
   "source": [
    "import numpy as np"
   ]
  },
  {
   "cell_type": "code",
   "execution_count": 4,
   "metadata": {},
   "outputs": [],
   "source": [
    "import requests"
   ]
  },
  {
   "cell_type": "code",
   "execution_count": 4,
   "metadata": {},
   "outputs": [],
   "source": [
    "base_url = \"https://api.stackexchange.com/2.2/search\""
   ]
  },
  {
   "cell_type": "code",
   "execution_count": 15,
   "metadata": {},
   "outputs": [],
   "source": [
    "def fetch_data(label):\n",
    "    dataframes = []\n",
    "    current_page = 1\n",
    "    base_url = \"https://api.stackexchange.com/2.2/search\"\n",
    "    params = {\"order\": \"desc\",\n",
    "        \"sort\": \"activity\",\n",
    "        \"tagged\": \"javascript\",\n",
    "        \"intitle\": label,\n",
    "        \"site\": \"stackoverflow\",\n",
    "         \"pagesize\": 100,\n",
    "        \"key\": \"aL0X1YNlgSeQ2MfrTAiLRA((\",\n",
    "         \"page\": current_page}\n",
    "\n",
    "    result = requests.get(base_url, params=params)\n",
    "    data = result.json()\n",
    "    \n",
    "    wanted_columns = [\"tags\", \"question_id\", \"title\"]\n",
    "#     we have to consider when has_more is true because there are only 30 results per page\n",
    "    while data:\n",
    "        print(data)\n",
    "        if data[\"has_more\"]:\n",
    "            print(\"current page is\", current_page)\n",
    "            items = data[\"items\"]\n",
    "            for item in items:\n",
    "                if item[\"is_answered\"]:\n",
    "\n",
    "                    cleaned_dict = { col: item[col] for col in wanted_columns }\n",
    "                    cleaned_dict['label'] = label\n",
    "                    dataframes.append(pd.DataFrame(cleaned_dict))\n",
    "            current_page += 1\n",
    "            params[\"page\"] = current_page\n",
    "            result = requests.get(base_url, params=params)\n",
    "            data = result.json()\n",
    "        else:\n",
    "            if(len(dataframes) > 0):\n",
    "                merged = pd.concat(dataframes)\n",
    "                return merged\n",
    "            else:\n",
    "                return \n",
    "            \n",
    "        \n",
    "        \n",
    "    if(len(dataframes) > 0):\n",
    "        merged = pd.concat(dataframes)\n",
    "        return merged\n",
    "        \n"
   ]
  },
  {
   "cell_type": "code",
   "execution_count": 16,
   "metadata": {},
   "outputs": [],
   "source": [
    "# tags = [\"menu\", \"header\", \"social-media\", \"footer\", \"navbar\", \"banner\", \"nav-bar\", \"navicon\", \"content\"]\n",
    "tags = [\"search bar\", \"search-bar\", \"image-slider\", \"image slider\", \"social media\", \"animate\", \"ajax\", \"cookie\", \"iframe\", \"animate\", \"form\", \"google-map\"]\n",
    "#search bar\n",
    "#image-slider\n",
    "#cookie \n",
    "#iframe\n",
    "#ajax\n",
    "#animate\n",
    "#form\n",
    "#google-map"
   ]
  },
  {
   "cell_type": "code",
   "execution_count": 17,
   "metadata": {},
   "outputs": [
    {
     "name": "stdout",
     "output_type": "stream",
     "text": [
      "{'error_id': 502, 'error_message': 'too many requests from this IP, more requests available in 73770 seconds', 'error_name': 'throttle_violation'}\n"
     ]
    },
    {
     "ename": "KeyError",
     "evalue": "'has_more'",
     "output_type": "error",
     "traceback": [
      "\u001b[0;31m---------------------------------------------------------------------------\u001b[0m",
      "\u001b[0;31mKeyError\u001b[0m                                  Traceback (most recent call last)",
      "\u001b[0;32m<ipython-input-17-e4e808a890c0>\u001b[0m in \u001b[0;36m<module>\u001b[0;34m\u001b[0m\n\u001b[1;32m      1\u001b[0m \u001b[0mdata\u001b[0m \u001b[0;34m=\u001b[0m \u001b[0;34m[\u001b[0m\u001b[0;34m]\u001b[0m\u001b[0;34m\u001b[0m\u001b[0;34m\u001b[0m\u001b[0m\n\u001b[1;32m      2\u001b[0m \u001b[0;32mfor\u001b[0m \u001b[0mtag\u001b[0m \u001b[0;32min\u001b[0m \u001b[0mtags\u001b[0m\u001b[0;34m[\u001b[0m\u001b[0;36m4\u001b[0m\u001b[0;34m]\u001b[0m\u001b[0;34m:\u001b[0m\u001b[0;34m\u001b[0m\u001b[0;34m\u001b[0m\u001b[0m\n\u001b[0;32m----> 3\u001b[0;31m     \u001b[0mdata\u001b[0m\u001b[0;34m.\u001b[0m\u001b[0mappend\u001b[0m\u001b[0;34m(\u001b[0m\u001b[0mfetch_data\u001b[0m\u001b[0;34m(\u001b[0m\u001b[0mtag\u001b[0m\u001b[0;34m)\u001b[0m\u001b[0;34m)\u001b[0m\u001b[0;34m\u001b[0m\u001b[0;34m\u001b[0m\u001b[0m\n\u001b[0m\u001b[1;32m      4\u001b[0m \u001b[0mmerged\u001b[0m \u001b[0;34m=\u001b[0m \u001b[0mpd\u001b[0m\u001b[0;34m.\u001b[0m\u001b[0mconcat\u001b[0m\u001b[0;34m(\u001b[0m\u001b[0mdata\u001b[0m\u001b[0;34m)\u001b[0m\u001b[0;34m\u001b[0m\u001b[0;34m\u001b[0m\u001b[0m\n",
      "\u001b[0;32m<ipython-input-15-113c8b78658c>\u001b[0m in \u001b[0;36mfetch_data\u001b[0;34m(label)\u001b[0m\n\u001b[1;32m     19\u001b[0m     \u001b[0;32mwhile\u001b[0m \u001b[0mdata\u001b[0m\u001b[0;34m:\u001b[0m\u001b[0;34m\u001b[0m\u001b[0;34m\u001b[0m\u001b[0m\n\u001b[1;32m     20\u001b[0m         \u001b[0mprint\u001b[0m\u001b[0;34m(\u001b[0m\u001b[0mdata\u001b[0m\u001b[0;34m)\u001b[0m\u001b[0;34m\u001b[0m\u001b[0;34m\u001b[0m\u001b[0m\n\u001b[0;32m---> 21\u001b[0;31m         \u001b[0;32mif\u001b[0m \u001b[0mdata\u001b[0m\u001b[0;34m[\u001b[0m\u001b[0;34m\"has_more\"\u001b[0m\u001b[0;34m]\u001b[0m\u001b[0;34m:\u001b[0m\u001b[0;34m\u001b[0m\u001b[0;34m\u001b[0m\u001b[0m\n\u001b[0m\u001b[1;32m     22\u001b[0m             \u001b[0mprint\u001b[0m\u001b[0;34m(\u001b[0m\u001b[0;34m\"current page is\"\u001b[0m\u001b[0;34m,\u001b[0m \u001b[0mcurrent_page\u001b[0m\u001b[0;34m)\u001b[0m\u001b[0;34m\u001b[0m\u001b[0;34m\u001b[0m\u001b[0m\n\u001b[1;32m     23\u001b[0m             \u001b[0mitems\u001b[0m \u001b[0;34m=\u001b[0m \u001b[0mdata\u001b[0m\u001b[0;34m[\u001b[0m\u001b[0;34m\"items\"\u001b[0m\u001b[0;34m]\u001b[0m\u001b[0;34m\u001b[0m\u001b[0;34m\u001b[0m\u001b[0m\n",
      "\u001b[0;31mKeyError\u001b[0m: 'has_more'"
     ]
    }
   ],
   "source": [
    "data = []\n",
    "for tag in tags[4]:\n",
    "    data.append(fetch_data(tag))\n",
    "merged = pd.concat(data)\n"
   ]
  },
  {
   "cell_type": "code",
   "execution_count": null,
   "metadata": {},
   "outputs": [],
   "source": [
    "merged.to_pickle(\"./tags_2_3_june\")"
   ]
  },
  {
   "cell_type": "code",
   "execution_count": 6,
   "metadata": {},
   "outputs": [],
   "source": [
    "data = pd.read_pickle(\"./tags_3_1_june\")"
   ]
  },
  {
   "cell_type": "code",
   "execution_count": null,
   "metadata": {},
   "outputs": [],
   "source": [
    "# answers_url = \"https://api.stackexchange.com/2.2/questions/66141095/\""
   ]
  },
  {
   "cell_type": "code",
   "execution_count": null,
   "metadata": {},
   "outputs": [],
   "source": [
    "def fetch_answer_id(question_id):\n",
    "    base_url = \"https://api.stackexchange.com/2.2/questions/\" + question_id + \"/answers/\"\n",
    "    params = {\"order\": \"desc\",\n",
    "        \"sort\": \"votes\",\n",
    "        \"tagged\": \"javascript\",\n",
    "        \"site\": \"stackoverflow\",\n",
    "         \"pagesize\": 10,\n",
    "        \"key\": \"aL0X1YNlgSeQ2MfrTAiLRA((\"\n",
    "        }\n",
    "\n",
    "    result = requests.get(base_url, params=params)\n",
    "    data = result.json()\n",
    "    print(data)\n",
    "    \n",
    "#     wanted_columns = [\"question_id\", \"answer_id\"]\n",
    "#     we have to consider when has_more is true because there are only 30 results per page\n",
    "    \n",
    "    items = data[\"items\"]\n",
    "    item = items[0][\"answer_id\"]\n",
    "    # for question in merged that has this question id, put the answer id\n",
    "#     cleaned_dict = { col: item[col] for col in wanted_columns }\n",
    "#     print(cleaned_dict)\n",
    "    return item\n",
    "        \n"
   ]
  },
  {
   "cell_type": "code",
   "execution_count": null,
   "metadata": {},
   "outputs": [],
   "source": [
    "# answer = fetch_answer_id(\"65343246\")\n",
    "# # pages[\"answer_id\"] = pages_1_5.loc[pages_1_5['question_id'] == \"66141095\"]\n",
    "# # print(pages_1_5.loc[pages_1_5['question_id'] == \"63341475\"])\n",
    "# pages_1_5['answer_id'][pages_1_5['question_id'] == 65343246] = answer"
   ]
  },
  {
   "cell_type": "code",
   "execution_count": null,
   "metadata": {},
   "outputs": [],
   "source": [
    "missing_question_ids = data[data[\"answer_id\"] == 0]['question_id'].unique()\n",
    "data[\"answer_id\"] = 0"
   ]
  },
  {
   "cell_type": "code",
   "execution_count": null,
   "metadata": {},
   "outputs": [],
   "source": [
    "for question in missing_question_ids:\n",
    "    answer_id = fetch_answer_id(str(question))\n",
    "    data['answer_id'][data['question_id'] == question] = answer_id"
   ]
  },
  {
   "cell_type": "code",
   "execution_count": null,
   "metadata": {},
   "outputs": [],
   "source": [
    "merged.to_pickle(\"./tags_2_june\")"
   ]
  }
 ],
 "metadata": {
  "kernelspec": {
   "display_name": "Python 3",
   "language": "python",
   "name": "python3"
  },
  "language_info": {
   "codemirror_mode": {
    "name": "ipython",
    "version": 3
   },
   "file_extension": ".py",
   "mimetype": "text/x-python",
   "name": "python",
   "nbconvert_exporter": "python",
   "pygments_lexer": "ipython3",
   "version": "3.8.6"
  }
 },
 "nbformat": 4,
 "nbformat_minor": 4
}
