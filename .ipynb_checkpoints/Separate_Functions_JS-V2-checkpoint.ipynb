{
 "cells": [
  {
   "cell_type": "code",
   "execution_count": null,
   "metadata": {},
   "outputs": [],
   "source": [
    "import os\n",
    "import esprima\n",
    "import pandas as pd\n",
    "import re\n",
    "import json\n",
    "from nltk.tokenize import word_tokenize\n",
    "import sys\n",
    "import random\n",
    "import jsbeautifier"
   ]
  },
  {
   "cell_type": "code",
   "execution_count": null,
   "metadata": {},
   "outputs": [],
   "source": [
    "!pip3 install jsbeautifier"
   ]
  },
  {
   "cell_type": "code",
   "execution_count": null,
   "metadata": {},
   "outputs": [],
   "source": [
    "\n",
    "function_start_end_positions = []\n",
    "function_id_map = set()"
   ]
  },
  {
   "cell_type": "code",
   "execution_count": null,
   "metadata": {},
   "outputs": [],
   "source": [
    "def list_files(dir):                                                                                                  \n",
    "    r = []                                                                                                            \n",
    "    subdirs = [x[0] for x in os.walk(dir)]\n",
    "    print(\"subdirs \", subdirs)\n",
    "    for subdir in subdirs:                                                                                            \n",
    "        files = os.walk(subdir).__next__()[2]                                                                             \n",
    "        if (len(files) > 0):                                                                                          \n",
    "            for file in files:                                                                                        \n",
    "                r.append(os.path.join(subdir, file))                                                                         \n",
    "    return r  "
   ]
  },
  {
   "cell_type": "code",
   "execution_count": null,
   "metadata": {},
   "outputs": [],
   "source": [
    "files = list_files(\"./Data/filtered_sites\")"
   ]
  },
  {
   "cell_type": "code",
   "execution_count": null,
   "metadata": {},
   "outputs": [],
   "source": [
    "files"
   ]
  },
  {
   "cell_type": "code",
   "execution_count": null,
   "metadata": {},
   "outputs": [],
   "source": [
    "def esprima_delegate(node_property_info, start_end_position):\n",
    "    print(\"hey\")\n",
    "    if node_property_info.type == \"FunctionDeclaration\" or node_property_info.type == \"FunctionExpression\":\n",
    "        start_pos = node_property_info.body.range[0]\n",
    "        end_pos = node_property_info.body.range[1] - 1\n",
    "        function_id = \"{} | {} | {}\".format(file_name, start_pos, end_pos)\n",
    "        function_id_map.add(function_id)\n",
    "        function_start_end_positions.append([start_pos, end_pos])\n",
    "        print(\"done\")"
   ]
  },
  {
   "cell_type": "code",
   "execution_count": null,
   "metadata": {},
   "outputs": [],
   "source": [
    "def split_file_functions(file_name):\n",
    "    print(file_name)\n",
    "    with open(file_name, \"r\") as f:\n",
    "        script_content = f.read()\n",
    "#         print(script_content)\n",
    "\n",
    "    try:\n",
    "        esprima.parseModule(script_content, {\"range\": True, \"tolerant\": True}, esprima_delegate)\n",
    "    except Exception as e:\n",
    "        print(\"There is an error in instrumentation\", file_name, e)\n",
    "        \n",
    "    for i, func in enumerate(function_start_end_positions):\n",
    "        file_name = file_name.replace(\"/\", \"-\")\n",
    "        url_idx_end = file_name.find('.js')\n",
    "        url_idx_start = file_name.find(\"filtered_sites\")\n",
    "        \n",
    "        current_file = \"./Data/separated_functions/\"+file_name[url_idx_start+15:url_idx_end] + \"-function\" + str(i)+\".js\"\n",
    "        print(current_file)\n",
    "        with open(current_file, \"w\") as f:\n",
    "#         f.write(f\"{file_name}-function{i}.js\\n\")\n",
    "            f.write(jsbeautifier.beautify(script_content[func[0]+1:func[1]]))\n",
    "            "
   ]
  },
  {
   "cell_type": "code",
   "execution_count": null,
   "metadata": {},
   "outputs": [],
   "source": [
    "def tokenize(answer):\n",
    "    try:\n",
    "        esprima.parseScript(answer)\n",
    "        tokenized = esprima.tokenize(answer)\n",
    "        result = []\n",
    "        for token in tokenized:\n",
    "            result.append(token.value)\n",
    "        print(\"no error\")\n",
    "        return result\n",
    "    except:\n",
    "        print(\"error\")\n",
    "        return None"
   ]
  },
  {
   "cell_type": "code",
   "execution_count": null,
   "metadata": {},
   "outputs": [],
   "source": [
    "def buildInstance(code, file_name):\n",
    "#     print(code)\n",
    "    print()\n",
    "    print(file_name)\n",
    "    current_line = {}\n",
    "    current_line['repo'] = \"\"\n",
    "    current_line['path'] = \"\"\n",
    "    current_line['function'] = \"\"\n",
    "\n",
    "    url_idx = file_name.find('filtered_sites')\n",
    "    current_line['url'] = file[url_idx+28:]\n",
    "    print(current_line[\"url\"])\n",
    "\n",
    "\n",
    "    current_line['sha'] = \"\"\n",
    "    current_line['partition'] = \"\"\n",
    "    current_line['language'] = \"javascript\"\n",
    "    current_line['original_string'] = code\n",
    "    current_line['code'] = code\n",
    "    current_line['code_tokens'] = tokenize(code)\n",
    "    if (not(current_line['code_tokens']) or len(current_line['code_tokens'])< 8 or len(current_line['code_tokens']) > 256):\n",
    "        print(\"None\")\n",
    "        return None\n",
    "    current_line['docstring'] = \"\"\n",
    "    current_line['docstring_tokens']  = \"\"\n",
    "    print(\"success\")\n",
    "\n",
    "    return current_line    "
   ]
  },
  {
   "cell_type": "code",
   "execution_count": null,
   "metadata": {},
   "outputs": [],
   "source": [
    "for file in files:\n",
    "    function_start_end_positions.clear()\n",
    "    function_id_map.clear()\n",
    "    file_name = file\n",
    "    \n",
    "    split_file_functions(file)"
   ]
  },
  {
   "cell_type": "code",
   "execution_count": null,
   "metadata": {},
   "outputs": [],
   "source": [
    "files = list_files(\"./Data/separated_functions\")"
   ]
  },
  {
   "cell_type": "code",
   "execution_count": null,
   "metadata": {},
   "outputs": [],
   "source": [
    "files"
   ]
  },
  {
   "cell_type": "code",
   "execution_count": null,
   "metadata": {},
   "outputs": [],
   "source": [
    "all_dict = []\n",
    "# count = 0\n",
    "for file in files:\n",
    "    text_file = open(file, \"r\")\n",
    "\n",
    "    #read whole file to a string\n",
    "    data = text_file.read()\n",
    "\n",
    "    #close file\n",
    "    text_file.close()\n",
    "    \n",
    "    \n",
    "    current_dict = buildInstance(data, file)\n",
    "    if current_dict:\n",
    "        all_dict.append(current_dict)\n",
    "\n",
    "print(len(all_dict))"
   ]
  },
  {
   "cell_type": "code",
   "execution_count": null,
   "metadata": {},
   "outputs": [],
   "source": [
    "# data = data[~data['code_token'].isnull()]"
   ]
  },
  {
   "cell_type": "code",
   "execution_count": null,
   "metadata": {},
   "outputs": [],
   "source": [
    "# data"
   ]
  },
  {
   "cell_type": "code",
   "execution_count": null,
   "metadata": {},
   "outputs": [],
   "source": [
    "# df = pd.DataFrame(columns=['repo','path','func_name','url','sha','partition','language', 'original_string', 'code', 'code_tokens', 'docstring_tokens', 'docstring'])\n",
    "# # "
   ]
  },
  {
   "cell_type": "code",
   "execution_count": null,
   "metadata": {},
   "outputs": [],
   "source": [
    "# for each piece of code, tokenize the code and put put it in the correct column. for url put the website and script "
   ]
  },
  {
   "cell_type": "code",
   "execution_count": null,
   "metadata": {},
   "outputs": [],
   "source": [
    "with open('./Data/NoThirdParty/test.jsonl', 'w') as outfile:\n",
    "    for single in all_dict:\n",
    "        test = json.dumps(single)\n",
    "#         print(test)\n",
    "        outfile.write(test)\n",
    "        outfile.write(\"\\n\")\n",
    "\n",
    "outfile.close()"
   ]
  },
  {
   "cell_type": "code",
   "execution_count": null,
   "metadata": {},
   "outputs": [],
   "source": []
  }
 ],
 "metadata": {
  "kernelspec": {
   "display_name": "jupyter-venv",
   "language": "python",
   "name": "jupyter-venv"
  },
  "language_info": {
   "codemirror_mode": {
    "name": "ipython",
    "version": 3
   },
   "file_extension": ".py",
   "mimetype": "text/x-python",
   "name": "python",
   "nbconvert_exporter": "python",
   "pygments_lexer": "ipython3",
   "version": "3.8.0"
  }
 },
 "nbformat": 4,
 "nbformat_minor": 4
}
